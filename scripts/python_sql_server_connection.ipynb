{
 "cells": [
  {
   "cell_type": "code",
   "execution_count": 1,
   "metadata": {},
   "outputs": [
    {
     "ename": "NameError",
     "evalue": "name 'os' is not defined",
     "output_type": "error",
     "traceback": [
      "\u001b[31m---------------------------------------------------------------------------\u001b[39m",
      "\u001b[31mNameError\u001b[39m                                 Traceback (most recent call last)",
      "\u001b[36mCell\u001b[39m\u001b[36m \u001b[39m\u001b[32mIn[1]\u001b[39m\u001b[32m, line 6\u001b[39m\n\u001b[32m      4\u001b[39m database = \u001b[33m'\u001b[39m\u001b[33mDataWarehouse\u001b[39m\u001b[33m'\u001b[39m\n\u001b[32m      5\u001b[39m username = \u001b[33m'\u001b[39m\u001b[33mKonstantin Milonas\u001b[39m\u001b[33m'\u001b[39m\n\u001b[32m----> \u001b[39m\u001b[32m6\u001b[39m password = \u001b[43mos\u001b[49m.getenv(\u001b[33m'\u001b[39m\u001b[33mSQL_PASSWORD\u001b[39m\u001b[33m'\u001b[39m)\n\u001b[32m      7\u001b[39m driver = \u001b[33m'\u001b[39m\u001b[33m{\u001b[39m\u001b[33mODBC Driver 17 for SQL Server}\u001b[39m\u001b[33m'\u001b[39m  \u001b[38;5;66;03m# Ensure correct driver version\u001b[39;00m\n\u001b[32m      9\u001b[39m conn = pyodbc.connect(\n\u001b[32m     10\u001b[39m     \u001b[33mf\u001b[39m\u001b[33m'\u001b[39m\u001b[33mDRIVER=\u001b[39m\u001b[38;5;132;01m{\u001b[39;00mdriver\u001b[38;5;132;01m}\u001b[39;00m\u001b[33m;SERVER=\u001b[39m\u001b[38;5;132;01m{\u001b[39;00mserver\u001b[38;5;132;01m}\u001b[39;00m\u001b[33m;DATABASE=\u001b[39m\u001b[38;5;132;01m{\u001b[39;00mdatabase\u001b[38;5;132;01m}\u001b[39;00m\u001b[33m;UID=\u001b[39m\u001b[38;5;132;01m{\u001b[39;00musername\u001b[38;5;132;01m}\u001b[39;00m\u001b[33m;PWD=\u001b[39m\u001b[38;5;132;01m{\u001b[39;00mpassword\u001b[38;5;132;01m}\u001b[39;00m\u001b[33m'\u001b[39m\n\u001b[32m     11\u001b[39m )\n",
      "\u001b[31mNameError\u001b[39m: name 'os' is not defined"
     ]
    }
   ],
   "source": [
    "import pyodbc\n",
    "\n",
    "server = 'localhost'  # Example: 'localhost\\SQLEXPRESS' or '192.168.1.10'\n",
    "database = 'DataWarehouse'\n",
    "username = 'Konstantin Milonas'\n",
    "password = os.getenv('SQL_PASSWORD')\n",
    "driver = '{ODBC Driver 17 for SQL Server}'  # Ensure correct driver version\n",
    "\n",
    "conn = pyodbc.connect(\n",
    "    f'DRIVER={driver};SERVER={server};DATABASE={database};UID={username};PWD={password}'\n",
    ")\n",
    "\n",
    "\n",
    "print(\"Connected to SQL Server successfully!\")\n",
    "conn.close()\n",
    "\n",
    "try:\n",
    "    conn = pyodbc.connect(\n",
    "        f'DRIVER={driver};SERVER={server};DATABASE={database};UID={username};PWD={password}'\n",
    "    )\n",
    "    cursor = conn.cursor()\n",
    "    print(\"Connected to SQL Server successfully!\")\n",
    "\n",
    "    # Example Query\n",
    "    cursor.execute(\"SELECT TOP 5 * FROM your_table_name\")\n",
    "    for row in cursor.fetchall():\n",
    "        print(row)\n",
    "\n",
    "    # Close connection\n",
    "    cursor.close()\n",
    "    conn.close()\n",
    "except Exception as e:\n",
    "    print(\"Error while connecting to SQL Server:\", e)\n"
   ]
  }
 ],
 "metadata": {
  "kernelspec": {
   "display_name": "sqlvenv",
   "language": "python",
   "name": "python3"
  },
  "language_info": {
   "codemirror_mode": {
    "name": "ipython",
    "version": 3
   },
   "file_extension": ".py",
   "mimetype": "text/x-python",
   "name": "python",
   "nbconvert_exporter": "python",
   "pygments_lexer": "ipython3",
   "version": "3.12.6"
  }
 },
 "nbformat": 4,
 "nbformat_minor": 2
}
